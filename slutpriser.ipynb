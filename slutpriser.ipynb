{
 "cells": [
  {
   "cell_type": "code",
   "execution_count": 1,
   "id": "76abcd0b-a931-445f-be94-131d0d4cdce0",
   "metadata": {},
   "outputs": [],
   "source": [
    "url = \"https://www.booli.se/sok/slutpriser?areaIds=81688,81683&amenities=buildingHasElevator\""
   ]
  },
  {
   "cell_type": "code",
   "execution_count": 2,
   "id": "9d197245-994f-42b3-a9ef-c5a808492747",
   "metadata": {},
   "outputs": [
    {
     "name": "stderr",
     "output_type": "stream",
     "text": [
      "/Users/michael/Library/Python/3.9/lib/python/site-packages/urllib3/__init__.py:34: NotOpenSSLWarning: urllib3 v2 only supports OpenSSL 1.1.1+, currently the 'ssl' module is compiled with 'LibreSSL 2.8.3'. See: https://github.com/urllib3/urllib3/issues/3020\n",
      "  warnings.warn(\n"
     ]
    }
   ],
   "source": [
    "from bs4 import BeautifulSoup\n",
    "import requests\n",
    "import datetime\n",
    "import re\n",
    "from dataclasses import dataclass, asdict\n",
    "import csv"
   ]
  },
  {
   "cell_type": "code",
   "execution_count": 3,
   "id": "0a47baf7-a824-417b-ae2f-4b03080781f8",
   "metadata": {},
   "outputs": [],
   "source": [
    "@dataclass\n",
    "class Object:\n",
    "    address: str\n",
    "    date: datetime.datetime\n",
    "    price: int\n",
    "    size: int\n",
    "    sqm_price: int\n",
    "    rooms: float  # apparently, you can have e.g. 4.5 rooms\n",
    "    total_area: int"
   ]
  },
  {
   "cell_type": "code",
   "execution_count": 4,
   "id": "b34c10b1-2cee-4520-95eb-d6163db5b950",
   "metadata": {},
   "outputs": [],
   "source": [
    "def get_url(url: str):\n",
    "    page = requests.get(url)\n",
    "    return BeautifulSoup(page.content, 'html.parser')"
   ]
  },
  {
   "cell_type": "code",
   "execution_count": 5,
   "id": "53389c2b-f0ed-4644-91be-ac46365334e0",
   "metadata": {},
   "outputs": [],
   "source": [
    "def get_listings_from_soup(soup):\n",
    "    return soup.find_all('article', class_='relative')"
   ]
  },
  {
   "cell_type": "code",
   "execution_count": 6,
   "id": "1843675b-db88-41a1-a0f5-680f5842d05c",
   "metadata": {},
   "outputs": [],
   "source": [
    "def get_all_listings(url_):\n",
    "    all_listings = []\n",
    "    page = 1\n",
    "    while True:\n",
    "        page_url = url_ + f\"&page={page}\" if page > 1 else url_\n",
    "        soup = get_url(page_url)\n",
    "        listings = get_listings_from_soup(soup)\n",
    "        print(f\"Found {len(listings)} on page {page}\")\n",
    "        all_listings.extend(listings)\n",
    "        if len(listings) == 0:\n",
    "            break\n",
    "            \n",
    "        page += 1\n",
    "    return all_listings"
   ]
  },
  {
   "cell_type": "code",
   "execution_count": 7,
   "id": "507f2639-e128-42b3-a68d-e016ee3c9f9d",
   "metadata": {},
   "outputs": [],
   "source": [
    "def get_info_from_listing(listing):\n",
    "    address = listing.find('a', class_='expanded-link').text\n",
    "    \n",
    "    date = listing.find('span', class_='object-card__date__logo').text\n",
    "    date = datetime.datetime.strptime(date, \"%Y-%m-%d\").date()\n",
    "\n",
    "    price = listing.find('span', class_='object-card__price__logo').text\n",
    "    price = int(re.sub(r'\\s+', '', price)[:-2]) # Remove whitespace + kr at the end\n",
    "    \n",
    "    details = listing.find(\"ul\", class_=\"object-card__data-list\").find_all('li')\n",
    "\n",
    "    size = details[0]\n",
    "    size = float(size.text[:-3].replace(\",\", \".\")) # remove m2 and convert \",\" to \".\"\n",
    "\n",
    "    # Some can't be parsed, skipping\n",
    "    if len(details) not in [3, 4]:\n",
    "        print(\"Details broken:\", details)\n",
    "        return Object(\n",
    "            address=address,\n",
    "            date=date,\n",
    "            price=price,\n",
    "            size=size,\n",
    "            sqm_price=0,\n",
    "            rooms=0,\n",
    "            total_area=0,\n",
    "        )\n",
    "    \n",
    "    if len(details) == 3:\n",
    "        rooms = None\n",
    "        total_area = details[1]\n",
    "        sqm_price = details[2]\n",
    "    else:\n",
    "        rooms = details[1]\n",
    "        total_area = details[2]\n",
    "        sqm_price = details[3]\n",
    "\n",
    "    if rooms:\n",
    "        rooms = float(rooms.text[:-3].replace(\",\", \".\")) # remove \"rum\"\n",
    "\n",
    "    if \"tomt\" in total_area.text: # This can also be floor (like floor 3). Ignoring that\n",
    "        total_area = int(re.sub(r'\\s+', '', total_area.text[:-7]))\n",
    "        print(\"TOOT\", total_area)\n",
    "    else:\n",
    "        total_area = 0\n",
    "    \n",
    "    sqm_price = int(re.sub(r'\\s+', '', sqm_price.text[:-6]))\n",
    "\n",
    "    return Object(\n",
    "        address=address,\n",
    "        date=date,\n",
    "        price=price,\n",
    "        size=size,\n",
    "        sqm_price=sqm_price,\n",
    "        rooms=rooms,\n",
    "        total_area=total_area,\n",
    "    )"
   ]
  },
  {
   "cell_type": "code",
   "execution_count": 8,
   "id": "e2824c7d-f4a8-4374-81d6-d167dcce5cf9",
   "metadata": {},
   "outputs": [
    {
     "name": "stdout",
     "output_type": "stream",
     "text": [
      "Found 35 on page 1\n",
      "Found 35 on page 2\n",
      "Found 13 on page 3\n",
      "Found 0 on page 4\n"
     ]
    }
   ],
   "source": [
    "listings = get_all_listings(url)"
   ]
  },
  {
   "cell_type": "code",
   "execution_count": 9,
   "id": "21d67686-181d-4dbc-b6d7-d653406d721a",
   "metadata": {},
   "outputs": [
    {
     "name": "stdout",
     "output_type": "stream",
     "text": [
      "Details broken: [<li>3,5 rum</li>, <li>vån 6</li>]\n"
     ]
    }
   ],
   "source": [
    "parsed_listings = [get_info_from_listing(l) for l in listings]"
   ]
  },
  {
   "cell_type": "code",
   "execution_count": 10,
   "id": "95a1b765-d9e7-407f-8ce5-0f34843a661b",
   "metadata": {},
   "outputs": [],
   "source": [
    "with open('output.csv', 'w') as csvfile:\n",
    "    fieldnames = list(asdict(parsed_listings[0]).keys())\n",
    "    writer = csv.DictWriter(csvfile, fieldnames=fieldnames)\n",
    "    writer.writeheader()\n",
    "    remapped = map(asdict, parsed_listings)\n",
    "    writer.writerows(remapped)"
   ]
  }
 ],
 "metadata": {
  "kernelspec": {
   "display_name": "Python 3 (ipykernel)",
   "language": "python",
   "name": "python3"
  },
  "language_info": {
   "codemirror_mode": {
    "name": "ipython",
    "version": 3
   },
   "file_extension": ".py",
   "mimetype": "text/x-python",
   "name": "python",
   "nbconvert_exporter": "python",
   "pygments_lexer": "ipython3",
   "version": "3.9.6"
  }
 },
 "nbformat": 4,
 "nbformat_minor": 5
}
